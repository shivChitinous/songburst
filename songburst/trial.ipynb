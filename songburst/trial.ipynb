{
 "cells": [
  {
   "cell_type": "code",
   "execution_count": 1,
   "id": "d2200bb6-7b23-4161-aab2-75c0853c043f",
   "metadata": {},
   "outputs": [],
   "source": [
    "from scipy.optimize import brentq\n",
    "from scipy.optimize import newton\n",
    "import numpy as np\n",
    "import scipy as sp\n",
    "from songburst.rnn import Factivation"
   ]
  },
  {
   "cell_type": "code",
   "execution_count": 29,
   "id": "8dc58cae-c6cd-448b-8173-f0b7c4e86806",
   "metadata": {},
   "outputs": [],
   "source": [
    "# Derivative of F(mu) with respect to mu for Newton-Raphson method\n",
    "def dFactivation(x,step=True,ramp=False,K=1.5,O=2,B=5,noise=0.25):\n",
    "    S1 = K*(noise/np.sqrt(2 * np.pi))*(\n",
    "        ((O - x) / (noise ** 2)) * np.exp(-((O - x) ** 2) / (2 * noise ** 2)) -\n",
    "        ((O + K**-1 * B - x) / (noise ** 2)) * np.exp(-((O + K**-1 * B - x) ** 2) / (2 * noise ** 2)))\n",
    "    \n",
    "    S2 = K / 2 * (\n",
    "        sp.special.erf((O + K**-1 * B - x) / (np.sqrt(2) * noise)) -\n",
    "        sp.special.erf((O - x) / (np.sqrt(2) * noise)))\n",
    "    \n",
    "    S3 = (x - O) / 2 * (\n",
    "        -2 / (np.sqrt(np.pi) * noise) * np.exp(-((O + K**-1 * B - x) ** 2) / (2 * noise ** 2)) +\n",
    "        2 / (np.sqrt(np.pi) * noise) * np.exp(-((O - x) ** 2) / (2 * noise ** 2)))\n",
    "    \n",
    "    S4 = -(B / 2) * (2 / (np.sqrt(np.pi) * noise)) * np.exp(-((O + K**-1 * B - x) ** 2) / (2 * noise ** 2))\n",
    "    \n",
    "    return S1 + S2 + S3 + S4\n",
    "\n",
    "# Function to find root (inverse) of F(mu) - F_target = 0 using Newton-Raphson\n",
    "def Finverse(S,step=True,ramp=False,K=1.5,O=2,B=5,noise=0.25,ansatz=1.5):\n",
    "    if noise>0:\n",
    "        func = lambda x: Factivation(x,step=step,ramp=ramp,K=K,O=O,B=B,noise=noise) - S\n",
    "        dfunc = lambda x: dFactivation(x,step=step,ramp=ramp,K=K,O=O,B=B,noise=noise)\n",
    "        #ansatz is improved initial guess based on previous solution\n",
    "        try:\n",
    "            mu = newton(func, ansatz, fprime=dfunc)\n",
    "        except RuntimeError:\n",
    "            # If Newton-Raphson fails, fallback to Brent's method\n",
    "            mu = brentq(func, -10, 10)  # Adjust bounds as necessary\n",
    "        return mu\n",
    "    else:\n",
    "        raise ValueError('F is not invertible when there is no noise')"
   ]
  },
  {
   "cell_type": "code",
   "execution_count": 39,
   "id": "8bd99d98-9ab1-4f5e-89a9-97c16650a774",
   "metadata": {},
   "outputs": [],
   "source": [
    "S = np.arange(0,5,0.01)"
   ]
  },
  {
   "cell_type": "code",
   "execution_count": 40,
   "id": "c96702b0-0a40-4087-9639-bc1326f0b93e",
   "metadata": {},
   "outputs": [
    {
     "name": "stderr",
     "output_type": "stream",
     "text": [
      "/var/folders/kq/zd50rskj7d1dqxnrr7s5q3bc0000gq/T/ipykernel_43747/2263117418.py:4: RuntimeWarning: overflow encountered in scalar power\n",
      "  ((O - x) / (noise ** 2)) * np.exp(-((O - x) ** 2) / (2 * noise ** 2)) -\n",
      "/var/folders/kq/zd50rskj7d1dqxnrr7s5q3bc0000gq/T/ipykernel_43747/2263117418.py:5: RuntimeWarning: overflow encountered in scalar power\n",
      "  ((O + K**-1 * B - x) / (noise ** 2)) * np.exp(-((O + K**-1 * B - x) ** 2) / (2 * noise ** 2)))\n",
      "/var/folders/kq/zd50rskj7d1dqxnrr7s5q3bc0000gq/T/ipykernel_43747/2263117418.py:12: RuntimeWarning: overflow encountered in scalar power\n",
      "  -2 / (np.sqrt(np.pi) * noise) * np.exp(-((O + K**-1 * B - x) ** 2) / (2 * noise ** 2)) +\n",
      "/var/folders/kq/zd50rskj7d1dqxnrr7s5q3bc0000gq/T/ipykernel_43747/2263117418.py:13: RuntimeWarning: overflow encountered in scalar power\n",
      "  2 / (np.sqrt(np.pi) * noise) * np.exp(-((O - x) ** 2) / (2 * noise ** 2)))\n",
      "/var/folders/kq/zd50rskj7d1dqxnrr7s5q3bc0000gq/T/ipykernel_43747/2263117418.py:15: RuntimeWarning: overflow encountered in scalar power\n",
      "  S4 = -(B / 2) * (2 / (np.sqrt(np.pi) * noise)) * np.exp(-((O + K**-1 * B - x) ** 2) / (2 * noise ** 2))\n",
      "/var/folders/kq/zd50rskj7d1dqxnrr7s5q3bc0000gq/T/ipykernel_43747/2263117418.py:4: RuntimeWarning: invalid value encountered in scalar multiply\n",
      "  ((O - x) / (noise ** 2)) * np.exp(-((O - x) ** 2) / (2 * noise ** 2)) -\n",
      "/var/folders/kq/zd50rskj7d1dqxnrr7s5q3bc0000gq/T/ipykernel_43747/2263117418.py:5: RuntimeWarning: invalid value encountered in scalar multiply\n",
      "  ((O + K**-1 * B - x) / (noise ** 2)) * np.exp(-((O + K**-1 * B - x) ** 2) / (2 * noise ** 2)))\n",
      "/var/folders/kq/zd50rskj7d1dqxnrr7s5q3bc0000gq/T/ipykernel_43747/2263117418.py:11: RuntimeWarning: invalid value encountered in scalar multiply\n",
      "  S3 = (x - O) / 2 * (\n"
     ]
    }
   ],
   "source": [
    "M = np.array([Finverse(s,noise=0.2) for s in S])"
   ]
  },
  {
   "cell_type": "code",
   "execution_count": 41,
   "id": "9f3fca26-38d4-4f9d-a421-107d54cfa0cf",
   "metadata": {},
   "outputs": [
    {
     "data": {
      "text/plain": [
       "[<matplotlib.lines.Line2D at 0x2aaec2d00>]"
      ]
     },
     "execution_count": 41,
     "metadata": {},
     "output_type": "execute_result"
    },
    {
     "data": {
      "image/png": "[encoded data removed]",
      "text/plain": [
       "<Figure size 640x480 with 1 Axes>"
      ]
     },
     "metadata": {},
     "output_type": "display_data"
    }
   ],
   "source": [
    "import matplotlib.pyplot as plt\n",
    "plt.plot(S,M)"
   ]
  }
 ],
 "metadata": {
  "kernelspec": {
   "display_name": "songburst",
   "language": "python",
   "name": "songburst"
  },
  "language_info": {
   "codemirror_mode": {
    "name": "ipython",
    "version": 3
   },
   "file_extension": ".py",
   "mimetype": "text/x-python",
   "name": "python",
   "nbconvert_exporter": "python",
   "pygments_lexer": "ipython3",
   "version": "3.8.18"
  }
 },
 "nbformat": 4,
 "nbformat_minor": 5
}
